{
 "cells": [
  {
   "cell_type": "markdown",
   "id": "61f56afc-bc15-46a4-8eb1-d940c332cf52",
   "metadata": {},
   "source": [
    "# Meeting minutes creator\n",
    "\n",
    "In this colab, we make a meeting minutes program.\n",
    "\n",
    "It includes useful code to connect your Google Drive to your colab.\n",
    "\n",
    "Upload your own audio to make this work!!\n",
    "\n",
    "https://colab.research.google.com/drive/1KSMxOCprsl1QRpt_Rq0UqCAyMtPqDQYx?usp=sharing\n",
    "\n",
    "This should run nicely on a low-cost or free T4 box."
   ]
  },
  {
   "cell_type": "code",
   "execution_count": 2,
   "id": "dd50aafb-6a0a-42c7-89a3-5ae89b5e781a",
   "metadata": {},
   "outputs": [],
   "source": [
    "!pip install -q gradio transformers torch librosa"
   ]
  },
  {
   "cell_type": "code",
   "execution_count": 8,
   "id": "e9289ba7-200c-43a9-b67a-c5ce826c9537",
   "metadata": {},
   "outputs": [
    {
     "name": "stdout",
     "output_type": "stream",
     "text": [
      "* Running on local URL:  http://127.0.0.1:7864\n",
      "\n",
      "To create a public link, set `share=True` in `launch()`.\n"
     ]
    },
    {
     "data": {
      "text/html": [
       "<div><iframe src=\"http://127.0.0.1:7864/\" width=\"100%\" height=\"500\" allow=\"autoplay; camera; microphone; clipboard-read; clipboard-write;\" frameborder=\"0\" allowfullscreen></iframe></div>"
      ],
      "text/plain": [
       "<IPython.core.display.HTML object>"
      ]
     },
     "metadata": {},
     "output_type": "display_data"
    },
    {
     "data": {
      "text/plain": []
     },
     "execution_count": 8,
     "metadata": {},
     "output_type": "execute_result"
    }
   ],
   "source": [
    "from dotenv import load_dotenv\n",
    "import gradio as gr\n",
    "import torch\n",
    "from transformers import WhisperForConditionalGeneration, WhisperProcessor\n",
    "import librosa\n",
    "from transformers import pipeline\n",
    "from openai import OpenAI\n",
    "import os\n",
    "\n",
    "# Load the Whisper model for audio transcription\n",
    "processor = WhisperProcessor.from_pretrained(\"openai/whisper-small\")\n",
    "model = WhisperForConditionalGeneration.from_pretrained(\"openai/whisper-small\")\n",
    "\n",
    "# Set up OpenAI API key (replace with your actual key)\n",
    "load_dotenv()\n",
    " # Store your API key in an environment variable\n",
    "openai = OpenAI(api_key=os.getenv(\"OPENAI_API_KEY\"))\n",
    "\n",
    "def transcribe_audio(audio_file):\n",
    "    # Load the audio file\n",
    "    audio, sr = librosa.load(audio_file, sr=16000)\n",
    "    \n",
    "    # Process the audio\n",
    "    input_features = processor(audio, sampling_rate=sr, return_tensors=\"pt\").input_features\n",
    "    \n",
    "    # Generate transcription\n",
    "    predicted_ids = model.generate(input_features)\n",
    "    transcription = processor.batch_decode(predicted_ids, skip_special_tokens=True)[0]\n",
    "    \n",
    "    return transcription\n",
    "\n",
    "def generate_summary(transcription):\n",
    "    # Define system and user prompts\n",
    "    system_message = \"You are an assistant that produces minutes of meetings from transcripts, with summary, key discussion points, takeaways, and action items with owners, in markdown.\"\n",
    "    user_prompt = f\"Below is an extract transcript of a Denver council meeting. Please write minutes in markdown, including a summary with attendees, location, and date; discussion points; takeaways; and action items with owners.\\n{transcription}\"\n",
    "    \n",
    "    # Call OpenAI API\n",
    "    response = openai.chat.completions.create(\n",
    "        model=\"gpt-4o-mini\",  # Use GPT-3.5-turbo for summarization\n",
    "        messages=[\n",
    "            {\"role\": \"system\", \"content\": system_message},\n",
    "            {\"role\": \"user\", \"content\": user_prompt}\n",
    "        ],\n",
    "        max_tokens=1000,  # Adjust as needed\n",
    "        temperature=0.5   # Adjust for creativity vs. determinism\n",
    "    )\n",
    "    \n",
    "    # Extract the generated summary\n",
    "    summary = response.choices[0].message.content\n",
    "    return summary\n",
    "\n",
    "def process_audio(file):\n",
    "    # Step 1: Transcribe the audio\n",
    "    transcription = transcribe_audio(file)\n",
    "    \n",
    "    # Step 2: Generate a summary\n",
    "    summary = generate_summary(transcription)\n",
    "    \n",
    "    return summary\n",
    "\n",
    "# Gradio UI\n",
    "with gr.Blocks() as demo:\n",
    "    gr.Markdown(\"# Audio Transcription and Summarization\")\n",
    "    \n",
    "    with gr.Row():\n",
    "        audio_input = gr.Audio(type=\"filepath\", label=\"Upload MP3 File\")\n",
    "        markdown_output = gr.Markdown(label=\"Summary\")\n",
    "    \n",
    "    submit_button = gr.Button(\"Submit\")\n",
    "    \n",
    "    submit_button.click(fn=process_audio, inputs=audio_input, outputs=markdown_output)\n",
    "\n",
    "# Launch the Gradio app\n",
    "demo.launch()"
   ]
  },
  {
   "cell_type": "code",
   "execution_count": null,
   "id": "e39a9edf-5101-4149-b4b3-6a62f34b8e2f",
   "metadata": {},
   "outputs": [],
   "source": []
  }
 ],
 "metadata": {
  "kernelspec": {
   "display_name": "Python 3 (ipykernel)",
   "language": "python",
   "name": "python3"
  },
  "language_info": {
   "codemirror_mode": {
    "name": "ipython",
    "version": 3
   },
   "file_extension": ".py",
   "mimetype": "text/x-python",
   "name": "python",
   "nbconvert_exporter": "python",
   "pygments_lexer": "ipython3",
   "version": "3.12.2"
  }
 },
 "nbformat": 4,
 "nbformat_minor": 5
}
