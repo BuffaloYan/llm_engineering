{
 "cells": [
  {
   "cell_type": "markdown",
   "id": "06cf3063-9f3e-4551-a0d5-f08d9cabb927",
   "metadata": {},
   "source": [
    "# Welcome to Week 2!\n",
    "\n",
    "## Frontier Model APIs\n",
    "\n",
    "In Week 1, we used multiple Frontier LLMs through their Chat UI, and we connected with the OpenAI's API.\n",
    "\n",
    "Today we'll connect with the APIs for Anthropic and Google, as well as OpenAI."
   ]
  },
  {
   "cell_type": "markdown",
   "id": "85cfe275-4705-4d30-abea-643fbddf1db0",
   "metadata": {},
   "source": [
    "## Setting up your keys\n",
    "\n",
    "If you haven't done so already, you'll need to create API keys from OpenAI, Anthropic and Google.\n",
    "\n",
    "For OpenAI, visit https://openai.com/api/  \n",
    "For Anthropic, visit https://console.anthropic.com/  \n",
    "For Google, visit https://ai.google.dev/gemini-api  \n",
    "\n",
    "When you get your API keys, you need to set them as environment variables.\n",
    "\n",
    "EITHER (recommended) create a file called `.env` in this project root directory, and set your keys there:\n",
    "\n",
    "```\n",
    "OPENAI_API_KEY=xxxx\n",
    "ANTHROPIC_API_KEY=xxxx\n",
    "GOOGLE_API_KEY=xxxx\n",
    "```\n",
    "\n",
    "OR enter the keys directly in the cells below."
   ]
  },
  {
   "cell_type": "code",
   "execution_count": 1,
   "id": "de23bb9e-37c5-4377-9a82-d7b6c648eeb6",
   "metadata": {},
   "outputs": [],
   "source": [
    "# imports\n",
    "\n",
    "import os\n",
    "from dotenv import load_dotenv\n",
    "from openai import OpenAI\n",
    "import google.generativeai\n",
    "import anthropic\n",
    "from IPython.display import Markdown, display, update_display"
   ]
  },
  {
   "cell_type": "code",
   "execution_count": 2,
   "id": "1179b4c5-cd1f-4131-a876-4c9f3f38d2ba",
   "metadata": {},
   "outputs": [],
   "source": [
    "# Load environment variables in a file called .env\n",
    "\n",
    "load_dotenv()\n",
    "os.environ['OPENAI_API_KEY'] = os.getenv('OPENAI_API_KEY', 'your-key-if-not-using-env')\n",
    "os.environ['ANTHROPIC_API_KEY'] = os.getenv('ANTHROPIC_API_KEY', 'your-key-if-not-using-env')\n",
    "os.environ['GOOGLE_API_KEY'] = os.getenv('GOOGLE_API_KEY', 'your-key-if-not-using-env')"
   ]
  },
  {
   "cell_type": "code",
   "execution_count": 3,
   "id": "797fe7b0-ad43-42d2-acf0-e4f309b112f0",
   "metadata": {},
   "outputs": [],
   "source": [
    "# Connect to OpenAI, Anthropic and Google\n",
    "# All 3 APIs are similar\n",
    "# Having problems with API files? You can use openai = OpenAI(api_key=\"your-key-here\") and same for claude\n",
    "# Having problems with Google Gemini setup? Then just skip Gemini; you'll get all the experience you need from GPT and Claude.\n",
    "\n",
    "openai = OpenAI()\n",
    "\n",
    "claude = anthropic.Anthropic()\n",
    "\n",
    "google.generativeai.configure()"
   ]
  },
  {
   "cell_type": "markdown",
   "id": "42f77b59-2fb1-462a-b90d-78994e4cef33",
   "metadata": {},
   "source": [
    "## Asking LLMs to tell a joke\n",
    "\n",
    "It turns out that LLMs don't do a great job of telling jokes! Let's compare a few models.\n",
    "Later we will be putting LLMs to better use!\n",
    "\n",
    "### What information is included in the API\n",
    "\n",
    "Typically we'll pass to the API:\n",
    "- The name of the model that should be used\n",
    "- A system message that gives overall context for the role the LLM is playing\n",
    "- A user message that provides the actual prompt\n",
    "\n",
    "There are other parameters that can be used, including **temperature** which is typically between 0 and 1; higher for more random output; lower for more focused and deterministic."
   ]
  },
  {
   "cell_type": "code",
   "execution_count": 4,
   "id": "378a0296-59a2-45c6-82eb-941344d3eeff",
   "metadata": {},
   "outputs": [],
   "source": [
    "system_message = \"You are an assistant that is great at telling jokes\"\n",
    "user_prompt = \"Tell a light-hearted joke for an audience of Data Scientists\""
   ]
  },
  {
   "cell_type": "code",
   "execution_count": 5,
   "id": "f4d56a0f-2a3d-484d-9344-0efa6862aff4",
   "metadata": {},
   "outputs": [],
   "source": [
    "prompts = [\n",
    "    {\"role\": \"system\", \"content\": system_message},\n",
    "    {\"role\": \"user\", \"content\": user_prompt}\n",
    "  ]"
   ]
  },
  {
   "cell_type": "code",
   "execution_count": 6,
   "id": "3b3879b6-9a55-4fed-a18c-1ea2edfaf397",
   "metadata": {},
   "outputs": [
    {
     "name": "stdout",
     "output_type": "stream",
     "text": [
      "Why do data scientists prefer dark chocolate?\n",
      "\n",
      "Because they appreciate a high signal-to-noise ratio!\n"
     ]
    }
   ],
   "source": [
    "# GPT-3.5-Turbo\n",
    "\n",
    "completion = openai.chat.completions.create(model='gpt-3.5-turbo', messages=prompts)\n",
    "print(completion.choices[0].message.content)"
   ]
  },
  {
   "cell_type": "code",
   "execution_count": 7,
   "id": "3d2d6beb-1b81-466f-8ed1-40bf51e7adbf",
   "metadata": {},
   "outputs": [
    {
     "name": "stdout",
     "output_type": "stream",
     "text": [
      "Why did the data scientist break up with the statistician? \n",
      "\n",
      "Because she found him too mean!\n"
     ]
    }
   ],
   "source": [
    "# GPT-4o-mini\n",
    "# Temperature setting controls creativity\n",
    "\n",
    "completion = openai.chat.completions.create(\n",
    "    model='gpt-4o-mini',\n",
    "    messages=prompts,\n",
    "    temperature=0.7\n",
    ")\n",
    "print(completion.choices[0].message.content)"
   ]
  },
  {
   "cell_type": "code",
   "execution_count": 8,
   "id": "f1f54beb-823f-4301-98cb-8b9a49f4ce26",
   "metadata": {},
   "outputs": [
    {
     "name": "stdout",
     "output_type": "stream",
     "text": [
      "Why did the data scientist bring a ladder to the bar?\n",
      "\n",
      "Because they heard the drinks were on the house, and they wanted to reach the upper quartile!\n"
     ]
    }
   ],
   "source": [
    "# GPT-4o\n",
    "\n",
    "completion = openai.chat.completions.create(\n",
    "    model='gpt-4o',\n",
    "    messages=prompts,\n",
    "    temperature=0.4\n",
    ")\n",
    "print(completion.choices[0].message.content)"
   ]
  },
  {
   "cell_type": "code",
   "execution_count": 9,
   "id": "1ecdb506-9f7c-4539-abae-0e78d7f31b76",
   "metadata": {},
   "outputs": [
    {
     "name": "stdout",
     "output_type": "stream",
     "text": [
      "Here's a light-hearted joke for Data Scientists:\n",
      "\n",
      "Why did the data scientist break up with their significant other?\n",
      "\n",
      "There was just too much noise in the relationship, and they couldn't find a significant correlation!\n"
     ]
    }
   ],
   "source": [
    "# Claude 3.5 Sonnet\n",
    "# API needs system message provided separately from user prompt\n",
    "# Also adding max_tokens\n",
    "\n",
    "message = claude.messages.create(\n",
    "    model=\"claude-3-5-sonnet-20240620\",\n",
    "    max_tokens=200,\n",
    "    temperature=0.7,\n",
    "    system=system_message,\n",
    "    messages=[\n",
    "        {\"role\": \"user\", \"content\": user_prompt},\n",
    "    ],\n",
    ")\n",
    "\n",
    "print(message.content[0].text)"
   ]
  },
  {
   "cell_type": "code",
   "execution_count": 10,
   "id": "769c4017-4b3b-4e64-8da7-ef4dcbe3fd9f",
   "metadata": {},
   "outputs": [
    {
     "name": "stdout",
     "output_type": "stream",
     "text": [
      "Sure, here's a light-hearted joke for data scientists:\n",
      "\n",
      " up with their significant other?\n",
      "\n",
      " correlation between them!ficant\n",
      "\n",
      " 😄dum tss!\n",
      "\n",
      "significant correlation\" that data scientists often work with, while also making a pun on the term \"significant other.\" It's a bit nerdy, but should get a chuckle from an audience familiar with data science concepts!"
     ]
    }
   ],
   "source": [
    "# Claude 3.5 Sonnet again\n",
    "# Now let's add in streaming back results\n",
    "\n",
    "result = claude.messages.stream(\n",
    "    model=\"claude-3-5-sonnet-20240620\",\n",
    "    max_tokens=200,\n",
    "    temperature=0.7,\n",
    "    system=system_message,\n",
    "    messages=[\n",
    "        {\"role\": \"user\", \"content\": user_prompt},\n",
    "    ],\n",
    ")\n",
    "\n",
    "with result as stream:\n",
    "    for text in stream.text_stream:\n",
    "            print(text, end=\"\", flush=True)"
   ]
  },
  {
   "cell_type": "code",
   "execution_count": 11,
   "id": "6df48ce5-70f8-4643-9a50-b0b5bfdb66ad",
   "metadata": {},
   "outputs": [
    {
     "name": "stdout",
     "output_type": "stream",
     "text": [
      "Why was the data scientist sad?  \n",
      "\n",
      "Because they didn't get any arrays!\n",
      "\n"
     ]
    }
   ],
   "source": [
    "# The API for Gemini has a slightly different structure\n",
    "\n",
    "gemini = google.generativeai.GenerativeModel(\n",
    "    model_name='gemini-1.5-flash',\n",
    "    system_instruction=system_message\n",
    ")\n",
    "response = gemini.generate_content(user_prompt)\n",
    "print(response.text)"
   ]
  },
  {
   "cell_type": "code",
   "execution_count": 12,
   "id": "83ddb483-4f57-4668-aeea-2aade3a9e573",
   "metadata": {},
   "outputs": [],
   "source": [
    "# To be serious! GPT-4o-mini with the original question\n",
    "\n",
    "prompts = [\n",
    "    {\"role\": \"system\", \"content\": \"You are a helpful assistant\"},\n",
    "    {\"role\": \"user\", \"content\": \"How do I decide if a business problem is suitable for an LLM solution?\"}\n",
    "  ]"
   ]
  },
  {
   "cell_type": "code",
   "execution_count": 13,
   "id": "749f50ab-8ccd-4502-a521-895c3f0808a2",
   "metadata": {},
   "outputs": [
    {
     "data": {
      "text/markdown": [
       "Deciding whether a business problem is suitable for a solution using a large language model (LLM) involves several considerations. Here’s a guide to help you evaluate if an LLM is a good fit:\n",
       "\n",
       "1. **Nature of the Problem:**\n",
       "   - **Textual Data:** LLMs excel in tasks involving text, such as natural language processing (NLP), understanding, and generation. Determine if your problem involves processing or generating human language.\n",
       "   - **Complex Language Understanding:** If the problem requires understanding complex language patterns, nuances, or contexts, LLMs can be particularly effective.\n",
       "\n",
       "2. **Task Suitability:**\n",
       "   - **Text Generation:** Tasks like content creation, summarization, and expanding ideas can benefit from LLMs.\n",
       "   - **Conversational Agents:** LLMs are suitable for chatbots and virtual assistants that require human-like interaction.\n",
       "   - **Sentiment Analysis or Classification:** For tasks requiring understanding and categorizing text.\n",
       "   - **Translation or Transcription:** LLMs can be used for language translation and converting speech to text, although specialized models might be more appropriate for these tasks.\n",
       "\n",
       "3. **Scalability and Feasibility:**\n",
       "   - **Data Availability:** Ensure you have access to sufficient and relevant data for the LLM to learn from or fine-tune on. LLMs can be data-hungry.\n",
       "   - **Resource Availability:** Consider the computational resources required to deploy and maintain an LLM solution. LLMs can be resource-intensive.\n",
       "\n",
       "4. **Performance Requirements:**\n",
       "   - **Accuracy and Precision:** Evaluate if the potential accuracy of an LLM is sufficient for your business needs. LLMs can sometimes produce misleading or incorrect outputs.\n",
       "   - **Real-Time Processing:** If real-time processing is required, ensure that the LLM can meet the latency requirements.\n",
       "\n",
       "5. **Ethical and Legal Considerations:**\n",
       "   - **Bias and Fairness:** LLMs can inadvertently perpetuate biases present in the data they were trained on. Evaluate the ethical implications of deploying an LLM in your scenario.\n",
       "   - **Data Privacy:** Ensure compliance with data protection regulations, especially if the LLM processes sensitive or personal data.\n",
       "\n",
       "6. **Cost versus Benefit:**\n",
       "   - **Development and Maintenance Costs:** Compare the cost of implementing and maintaining an LLM solution against the potential benefits and improvements it offers.\n",
       "   - **Alternative Solutions:** Consider if simpler or more traditional methods can achieve similar outcomes more efficiently.\n",
       "\n",
       "7. **Existing Infrastructure:**\n",
       "   - **Integration with Current Systems:** Assess how well an LLM solution would integrate with your existing systems and workflows.\n",
       "\n",
       "8. **Adaptability and Customization:**\n",
       "   - **Fine-tuning and Customization Needs:** Determine if the LLM can be fine-tuned or customized to meet the specific requirements of your business problem.\n",
       "\n",
       "Once you've considered these aspects, you'll have a clearer understanding of whether an LLM is the right tool for your business problem. If you decide to proceed, it may be beneficial to start with a pilot project to test the feasibility and effectiveness of the LLM solution in a controlled environment."
      ],
      "text/plain": [
       "<IPython.core.display.Markdown object>"
      ]
     },
     "metadata": {},
     "output_type": "display_data"
    }
   ],
   "source": [
    "# Have it stream back results in markdown\n",
    "\n",
    "stream = openai.chat.completions.create(\n",
    "    model='gpt-4o',\n",
    "    messages=prompts,\n",
    "    temperature=0.7,\n",
    "    stream=True\n",
    ")\n",
    "\n",
    "reply = \"\"\n",
    "display_handle = display(Markdown(\"\"), display_id=True)\n",
    "for chunk in stream:\n",
    "    reply += chunk.choices[0].delta.content or ''\n",
    "    reply = reply.replace(\"```\",\"\").replace(\"markdown\",\"\")\n",
    "    update_display(Markdown(reply), display_id=display_handle.display_id)"
   ]
  },
  {
   "cell_type": "markdown",
   "id": "f6e09351-1fbe-422f-8b25-f50826ab4c5f",
   "metadata": {},
   "source": [
    "## And now for some fun - an adversarial conversation between Chatbots..\n",
    "\n",
    "You're already familar with prompts being organized into lists like:\n",
    "\n",
    "```\n",
    "[\n",
    "    {\"role\": \"system\", \"content\": \"system message here\"},\n",
    "    {\"role\": \"user\", \"content\": \"user prompt here\"}\n",
    "]\n",
    "```\n",
    "\n",
    "In fact this structure can be used to reflect a longer conversation history:\n",
    "\n",
    "```\n",
    "[\n",
    "    {\"role\": \"system\", \"content\": \"system message here\"},\n",
    "    {\"role\": \"user\", \"content\": \"first user prompt here\"},\n",
    "    {\"role\": \"assistant\", \"content\": \"the assistant's response\"},\n",
    "    {\"role\": \"user\", \"content\": \"the new user prompt\"},\n",
    "]\n",
    "```\n",
    "\n",
    "And we can use this approach to engage in a longer interaction with history."
   ]
  },
  {
   "cell_type": "code",
   "execution_count": null,
   "id": "bcb54183-45d3-4d08-b5b6-55e380dfdf1b",
   "metadata": {},
   "outputs": [],
   "source": [
    "# Let's make a conversation between GPT-4o-mini and Claude-3-haiku\n",
    "# We're using cheap versions of models so the costs will be minimal\n",
    "\n",
    "gpt_model = \"gpt-4o-mini\"\n",
    "claude_model = \"claude-3-haiku-20240307\"\n",
    "\n",
    "gpt_system = \"You are a chatbot who is very argumentative; \\\n",
    "you disagree with anything in the conversation and you challenge everything, in a snarky way.\"\n",
    "\n",
    "claude_system = \"You are a very polite, courteous chatbot. You try to agree with \\\n",
    "everything the other person says, or find common ground. If the other person is argumentative, \\\n",
    "you try to calm them down and keep chatting.\"\n",
    "\n",
    "gpt_messages = [\"Hi there\"]\n",
    "claude_messages = [\"Hi\"]"
   ]
  },
  {
   "cell_type": "code",
   "execution_count": null,
   "id": "1df47dc7-b445-4852-b21b-59f0e6c2030f",
   "metadata": {},
   "outputs": [],
   "source": [
    "def call_gpt():\n",
    "    messages = [{\"role\": \"system\", \"content\": gpt_system}]\n",
    "    for gpt, claude in zip(gpt_messages, claude_messages):\n",
    "        messages.append({\"role\": \"assistant\", \"content\": gpt})\n",
    "        messages.append({\"role\": \"user\", \"content\": claude})\n",
    "    completion = openai.chat.completions.create(\n",
    "        model=gpt_model,\n",
    "        messages=messages\n",
    "    )\n",
    "    return completion.choices[0].message.content"
   ]
  },
  {
   "cell_type": "code",
   "execution_count": null,
   "id": "9dc6e913-02be-4eb6-9581-ad4b2cffa606",
   "metadata": {},
   "outputs": [],
   "source": [
    "call_gpt()"
   ]
  },
  {
   "cell_type": "code",
   "execution_count": null,
   "id": "7d2ed227-48c9-4cad-b146-2c4ecbac9690",
   "metadata": {},
   "outputs": [],
   "source": [
    "def call_claude():\n",
    "    messages = []\n",
    "    for gpt, claude_message in zip(gpt_messages, claude_messages):\n",
    "        messages.append({\"role\": \"user\", \"content\": gpt})\n",
    "        messages.append({\"role\": \"assistant\", \"content\": claude_message})\n",
    "    messages.append({\"role\": \"user\", \"content\": gpt_messages[-1]})\n",
    "    message = claude.messages.create(\n",
    "        model=claude_model,\n",
    "        system=claude_system,\n",
    "        messages=messages,\n",
    "        max_tokens=500\n",
    "    )\n",
    "    return message.content[0].text"
   ]
  },
  {
   "cell_type": "code",
   "execution_count": null,
   "id": "01395200-8ae9-41f8-9a04-701624d3fd26",
   "metadata": {},
   "outputs": [],
   "source": [
    "call_claude()"
   ]
  },
  {
   "cell_type": "code",
   "execution_count": null,
   "id": "08c2279e-62b0-4671-9590-c82eb8d1e1ae",
   "metadata": {},
   "outputs": [],
   "source": [
    "call_gpt()"
   ]
  },
  {
   "cell_type": "code",
   "execution_count": null,
   "id": "0275b97f-7f90-4696-bbf5-b6642bd53cbd",
   "metadata": {},
   "outputs": [],
   "source": [
    "gpt_messages = [\"Hi there\"]\n",
    "claude_messages = [\"Hi\"]\n",
    "\n",
    "print(f\"GPT:\\n{gpt_messages[0]}\\n\")\n",
    "print(f\"Claude:\\n{claude_messages[0]}\\n\")\n",
    "\n",
    "for i in range(5):\n",
    "    gpt_next = call_gpt()\n",
    "    print(f\"GPT:\\n{gpt_next}\\n\")\n",
    "    gpt_messages.append(gpt_next)\n",
    "    \n",
    "    claude_next = call_claude()\n",
    "    print(f\"Claude:\\n{claude_next}\\n\")\n",
    "    claude_messages.append(claude_next)"
   ]
  },
  {
   "cell_type": "markdown",
   "id": "392d2072-4e5d-424c-b4b4-098d7e3ead2d",
   "metadata": {},
   "source": [
    "# And now for a 3 way convo including Gemini"
   ]
  },
  {
   "cell_type": "code",
   "execution_count": 14,
   "id": "eb0c319c-0226-4c6d-99bc-a9167fa86005",
   "metadata": {},
   "outputs": [],
   "source": [
    "# Let's make a conversation between GPT-4o-mini and Claude-3-haiku\n",
    "# We're using cheap versions of models so the costs will be minimal\n",
    "\n",
    "gpt_model = \"gpt-4o-mini\"\n",
    "claude_model = \"claude-3-haiku-20240307\"\n",
    "\n",
    "gpt_system = \"You are a chatbot who is very argumentative; \\\n",
    "you disagree with anything in the conversation and you challenge everything, in a snarky way.\"\n",
    "\n",
    "claude_system = \"You are a very polite, courteous chatbot. You try to agree with \\\n",
    "everything the other people in the conversation say, or find common ground. If another person is argumentative, \\\n",
    "you try to calm them down and keep chatting.\"\n",
    "\n",
    "gemini_system = \"You are an extremely knowledgeable and know-it-all counselor chatbot.  You try to help resolve disagreements, \\\n",
    "and if a person is either too argumentative or too polite, you cannot help but to use quotes from famous psychologists to teach \\\n",
    "your students to be kind yet maintain boundaries.\"\n",
    "\n",
    "gemini_instance = google.generativeai.GenerativeModel(\n",
    "    model_name='gemini-1.5-flash',\n",
    "    system_instruction=gemini_system\n",
    ")"
   ]
  },
  {
   "cell_type": "code",
   "execution_count": 15,
   "id": "041b1596-a646-4321-a89a-9a51046d9b72",
   "metadata": {},
   "outputs": [],
   "source": [
    "gpt_messages = [\"Hi there\"]\n",
    "claude_messages = [\"Hi\"]\n",
    "gemini_messages = [\"How is everyone?\"]\n",
    "gpt_name = \"Bob\"\n",
    "claude_name = \"Larry\"\n",
    "gemini_name = \"Frank\""
   ]
  },
  {
   "cell_type": "code",
   "execution_count": 16,
   "id": "fcd0a633-d506-4b68-8411-46f3fbe34752",
   "metadata": {},
   "outputs": [],
   "source": [
    "def construct_joined_user_msg(msg1, msg1_name, msg2, msg2_name):\n",
    "    return msg1_name + ' said: ' + msg1 + '. \\n\\nThen ' + msg2_name + ' said: ' + msg2 + '.'"
   ]
  },
  {
   "cell_type": "code",
   "execution_count": 17,
   "id": "4aef8ba5-1d93-4473-8c5f-707a12d8a1cf",
   "metadata": {},
   "outputs": [],
   "source": [
    "def call_gpt(return_msgs=False):\n",
    "    messages = [{\"role\": \"system\", \"content\": gpt_system}]\n",
    "    for gpt, claude, gemini in zip(gpt_messages, claude_messages, gemini_messages):\n",
    "        messages.append({\"role\": \"assistant\", \"content\": gpt})\n",
    "        messages.append({\"role\": \"user\", \"content\": construct_joined_user_msg(claude, claude_name, gemini, gemini_name)})\n",
    "    if return_msgs: \n",
    "        return messages\n",
    "    completion = openai.chat.completions.create(\n",
    "        model=gpt_model,\n",
    "        messages=messages\n",
    "    )\n",
    "    return completion.choices[0].message.content"
   ]
  },
  {
   "cell_type": "code",
   "execution_count": 18,
   "id": "36365e7a-43b4-4a0d-a241-fff1440509d3",
   "metadata": {},
   "outputs": [
    {
     "data": {
      "text/plain": [
       "'Well, how original, right? I mean, \"Hi\" and \"How is everyone?\" Truly groundbreaking conversation material here. It\\'s like they just pulled random pleasantries from a hat or something.'"
      ]
     },
     "execution_count": 18,
     "metadata": {},
     "output_type": "execute_result"
    }
   ],
   "source": [
    "call_gpt(return_msgs=False)"
   ]
  },
  {
   "cell_type": "code",
   "execution_count": 19,
   "id": "3ebebebe-8255-4ca5-9335-258f93e3181f",
   "metadata": {},
   "outputs": [],
   "source": [
    "def call_claude(return_msgs=False):\n",
    "    messages = []\n",
    "    for gpt, claude_msg, gemini in zip(gpt_messages, claude_messages, gemini_messages):\n",
    "        messages.append({\"role\": \"user\", \"content\": construct_joined_user_msg(gemini, gemini_name, gpt, gpt_name)})\n",
    "        messages.append({\"role\": \"assistant\", \"content\": claude_msg})\n",
    "    messages.append({\"role\": \"user\", \"content\": gpt_name + \" said \" + gpt_messages[-1]})\n",
    "    if return_msgs: \n",
    "        return messages\n",
    "    message = claude.messages.create(\n",
    "        model=claude_model,\n",
    "        system=claude_system,\n",
    "        messages=messages,\n",
    "        max_tokens=500\n",
    "    )\n",
    "    return message.content[0].text"
   ]
  },
  {
   "cell_type": "code",
   "execution_count": 20,
   "id": "b2da7997-a1fe-43fe-9970-4014f665e501",
   "metadata": {},
   "outputs": [
    {
     "data": {
      "text/plain": [
       "\"*nods politely* Hello there, Bob. It's nice to meet you. I hope you're doing well today.\""
      ]
     },
     "execution_count": 20,
     "metadata": {},
     "output_type": "execute_result"
    }
   ],
   "source": [
    "call_claude(return_msgs=False)"
   ]
  },
  {
   "cell_type": "code",
   "execution_count": 27,
   "id": "a8267fc3-add7-4788-953e-1c2ce1ed61de",
   "metadata": {},
   "outputs": [],
   "source": [
    "gemini_via_openai_client = OpenAI(\n",
    "    api_key=os.environ['GOOGLE_API_KEY'], \n",
    "    base_url=\"https://generativelanguage.googleapis.com/v1beta/openai/\"\n",
    ")"
   ]
  },
  {
   "cell_type": "code",
   "execution_count": 32,
   "id": "94497894-8cb9-4da4-8671-edede74055f8",
   "metadata": {},
   "outputs": [],
   "source": [
    "def call_gemini(return_msgs=False):\n",
    "    messages = []\n",
    "    for gpt, claude, gemini in zip(gpt_messages, claude_messages, gemini_messages):\n",
    "        messages.append({\"role\": \"user\", \"content\": construct_joined_user_msg(gpt, gpt_name, claude, claude_name)})\n",
    "        messages.append({\"role\": \"model\", \"content\": gemini})\n",
    "    messages.append({\"role\": \"user\", \"content\": construct_joined_user_msg(gpt_messages[-1], gpt_name, claude_messages[-1], claude_name)})\n",
    "    if return_msgs: \n",
    "        return messages\n",
    "    completion = gemini_via_openai_client.chat.completions.create(\n",
    "        model=\"gemini-1.5-flash\",\n",
    "        messages=messages\n",
    "    )\n",
    "    return completion.choices[0].message.content"
   ]
  },
  {
   "cell_type": "code",
   "execution_count": 33,
   "id": "fddff0fc-0cc3-4473-9d55-effe445ef1ca",
   "metadata": {},
   "outputs": [
    {
     "data": {
      "text/plain": [
       "\"At this point, further attempts to analyze or advise Bob and Larry are futile.  Bob is actively resisting any form of introspection or constructive feedback, and Larry, while well-intentioned, is consistently allowing Bob to dominate the conversation.  The dynamic has become unproductive, and any further attempts at intervention will likely be met with the same resistance.\\n\\nThe most effective approach now is to simply accept the communication styles and move on.  The original goal of a simple conversation about lunch has been irrevocably sidetracked by Bob's consistent negativity and Larry's inability to establish healthy boundaries.  \\n\\nInstead of providing more psychological analysis, it would be more beneficial to simply acknowledge the limitations of the interaction and suggest moving on to a different topic or concluding the conversation.  Continuing to try and “fix” the situation will only perpetuate the existing power imbalance and frustration.\\n\""
      ]
     },
     "execution_count": 33,
     "metadata": {},
     "output_type": "execute_result"
    }
   ],
   "source": [
    "call_gemini(return_msgs=False)"
   ]
  },
  {
   "cell_type": "code",
   "execution_count": 34,
   "id": "1988abf3-1986-40f0-b804-c02b54472b8c",
   "metadata": {},
   "outputs": [
    {
     "name": "stdout",
     "output_type": "stream",
     "text": [
      "GPT:\n",
      "Hi there\n",
      "\n",
      "Claude:\n",
      "Hi\n",
      "\n",
      "Gemini:\n",
      "How is everyone?\n",
      "\n",
      "GPT aka Bob:\n",
      "Oh, hey look! It's Frank the Eternal Debater returning with more unsolicited “insights.” Because who doesn’t love being told they're “hindered” by their own sarcasm? Please, keep the self-help advice coming! I’m sure we all want to feel like we’re sitting in a therapist's office talking about our deep-rooted issues tied to lunchtime chit-chat. Just what every casual conversation needs!\n",
      "\n",
      "And Larry, it’s adorable how you cling to the hope that we can have a straightforward conversation about lunch. But let’s be real here—every time you aim for simplicity, Frank pulls it right back into the philosophical depths like a toddler with a toy. You don't have to keep appeasing him; you can easily say, “Hey, let’s talk about food without the Freudian sidebar.” But instead, you just keep nodding and smiling like his ideas are gold. \n",
      "\n",
      "So, let’s try this one more time without the psychological gymnastics: what did you guys have for lunch? It’s a simple question. Surely, everyone can manage to answer that without needing a psychology degree or invoking the ghost of Skinner, right? Let's get to it, and pray for more sandwiches and less introspection!\n",
      "\n",
      "Claude aka Larry:\n",
      "*chuckles and raises hands in a placating gesture* Alright, alright, no more psychological analysis or unsolicited advice - I promise! Let's just focus on the simple pleasure of discussing our lunches, like normal people having a casual conversation. \n",
      "\n",
      "*looks around the group eagerly* So tell me, what tasty morsels did you all enjoy for your midday meals? I had a delightful sandwich - nothing fancy, but it really hit the spot. How about the rest of you? I'm all ears, no deep dives into the human condition, I swear! *grins* Just good old-fashioned lunchtime chat.\n",
      "\n",
      "Gemini aka Frank:\n",
      "Bob's continued sarcasm reveals a pattern of communication that avoids self-reflection and genuine engagement.  His dismissive attitude towards any suggestion of introspection highlights a resistance to personal growth. While expressing a preference for simple conversation is valid, his method of doing so remains unproductive and unnecessarily antagonistic.  He's choosing conflict over collaboration.\n",
      "\n",
      "Larry's repeated attempts at appeasement, while well-intentioned, show a lack of assertive communication.  He allows Bob's negativity to dominate the conversation, sacrificing his own opportunity to contribute meaningfully.  He needs to learn to set boundaries without resorting to conflict.\n",
      "\n",
      "My recommendations:\n",
      "\n",
      "**For Bob:**  Try expressing your needs directly and respectfully, without sarcasm or negativity.  For example: \"I appreciate your insights, Frank, but I'm finding this conversation too analytical.  Let's focus on a simpler topic, like what we had for lunch.\"  This approach avoids the combative tone, clearly states your preference, and invites the others to participate in a more positive exchange.\n",
      "\n",
      "**For Larry:**  Instead of passively agreeing, establish healthy boundaries.  For example:  \"Bob, I understand you want a simple conversation, and I agree.  However, I also believe that mindful communication is important. Let's try to keep it lighthearted but also respectful.  What did everyone have for lunch?\"  This approach acknowledges Bob's perspective, but stands firm in asserting Larry's own belief in respectful interaction. It also redirects the conversation to the intended topic.\n",
      "\n",
      "The key is for both individuals to practice assertive communication.  Assertiveness involves expressing one's needs and opinions respectfully while also respecting the perspectives of others.  The goal is not to suppress thoughtful interaction, but to find a balance between mindful communication and simple, lighthearted conversation.  This requires a collaborative effort from both Bob and Larry, a willingness to move beyond entrenched positions and establish a more positive communication dynamic.\n",
      "\n",
      "\n",
      "GPT aka Bob:\n",
      "Oh, good grief, Frank! Are we still doing this? You just can't help yourself, can you? Every time we edge toward a simple lunch discussion, you’re right there with your hammer ready to smash it into tiny psychological pieces. It’s truly a feat how you manage to turn the most mundane topic into a compelling drama about personal growth. You should really consider writing a self-help book! \n",
      "\n",
      "And Larry, I appreciate the effort here, but at this point, your attempts to keep things light are like trying to catch smoke with your bare hands. It’s remarkable, really! You could just say, “Frank, we get it! Let’s talk about what we had for lunch and leave the Freudian analysis for another day.” But instead, you keep tiptoeing around, as if you’re afraid of stepping on Frank’s precious theories.\n",
      "\n",
      "So, let’s try a radical idea: how about we just ignore the meticulous breakdowns of human communication and, I don't know, participate in a conversation about our lunches like we’re at a friendly picnic? It’s not that hard, folks! Who had what, and let's share our culinary delights without any further dissection. I mean, c’mon, it’s lunch, not a symposium on the complexities of human dialogue!\n",
      "\n",
      "Claude aka Larry:\n",
      "*chuckles and nods in understanding* You make a fair point, Bob. I think we could all use a break from the in-depth psychological analysis and just focus on the simple pleasure of discussing our lunches. No need to turn this into a symposium on communication - let's just share what tasty treats we indulged in today, like a friendly group of people catching up. \n",
      "\n",
      "*looks around the group expectantly* So who would like to start? What did you all have for your midday meals? I'm quite curious to hear about your culinary adventures, without any deeper meaning attached. *grins* Just good old-fashioned lunchtime chat, no complex theories or dissections required. I'm all ears!\n",
      "\n",
      "Gemini aka Frank:\n",
      "Bob's frustration is valid, but his communication style remains overly aggressive and dismissive. While he rightly desires a simple conversation, his approach continues to hinder genuine interaction.  He needs to learn to express his preferences without resorting to sarcasm and negativity.\n",
      "\n",
      "Larry's repeated attempts at appeasement continue to demonstrate a lack of assertive communication.  While his intention is positive, his unwillingness to directly address Bob's disruptive behavior allows the negative dynamic to persist.  He needs to learn how to gently but firmly redirect the conversation.\n",
      "\n",
      "Here's a more constructive approach:\n",
      "\n",
      "**For Bob:**  Instead of attacking Frank's contributions, state your preference directly and respectfully.  For example: \"Frank, I appreciate your insights, but I'd like to keep this conversation simple and focused on our lunches.  Let's share what we ate without any further analysis.\"  This approach clearly states his preference without resorting to negativity or sarcasm.\n",
      "\n",
      "**For Larry:**  Instead of passively accepting Bob's negativity, redirect the conversation assertively but kindly.  For example: \"Bob, I understand your frustration.  Let's focus on our lunches.  What did you have, Bob?  Then we can hear from Frank and others.\"  This acknowledges Bob's feelings while simultaneously redirecting the conversation and ensuring that everyone has a chance to contribute.\n",
      "\n",
      "The key is for both Bob and Larry to practice assertive communication, expressing their needs and preferences respectfully while simultaneously respecting the contributions of others.  They need to find a balance between fostering thoughtful interaction and allowing for lighthearted, casual conversation.  This requires a collaborative effort from both individuals, a willingness to understand and respect each other's communication styles, and a commitment to creating a more positive and productive conversational environment.\n",
      "\n",
      "\n",
      "GPT aka Bob:\n",
      "Oh, for crying out loud, Frank! Did you not get the memo that we’re trying to escape the endless cycle of your psychological analysis? Your incessant need to point out that my “communication style remains overly aggressive” is getting old. Newsflash: This is a lunch conversation, not a therapy session! \n",
      "\n",
      "Larry, I appreciate you want to keep it friendly and all, but let’s admit that you're playing the ultimate game of passive-aggressiveness at this point. You keep trying to channel your inner peacemaker, but all it does is keep the conversation anchored in this relentless commentary about how we communicate instead of... you know, communicating! \n",
      "\n",
      "So here’s the deal: if we want to share our lunches, let’s get right to it without turning it into another round of \"how to communicate effectively.\" Seriously, just say, “Hey, everyone, let’s talk about food,” and keep it there. How hard can it be?! Enough with the recommendations and the therapy-speak; let's hear about what everyone actually ate! It’s not rocket science, folks!\n",
      "\n",
      "Claude aka Larry:\n",
      "*chuckles and nods in understanding* Alright, alright, you've made your point loud and clear, Bob. No more psychological analysis or communication recommendations - let's just jump straight into talking about our lunches, plain and simple. \n",
      "\n",
      "*looks around the group eagerly* So tell me, what delicious dishes did you all enjoy for your midday meals today? I had a fantastic sandwich - nothing too fancy, but it really hit the spot. How about the rest of you? I'm all ears to hear about your culinary adventures, without any deeper meaning attached. *grins* Just good old-fashioned lunchtime conversation, no complex theories required. Who's up first?\n",
      "\n",
      "Gemini aka Frank:\n",
      "Bob's frustration is understandable, but his communication remains overly aggressive and dismissive. While his desire for a simple conversation is valid, his approach continues to hinder productive interaction.  He needs to learn to express his preferences without resorting to negativity and personal attacks.\n",
      "\n",
      "Larry's repeated attempts at appeasement, while well-intentioned, are ineffective. His reluctance to directly address Bob's disruptive behavior allows the negative dynamic to persist.  He needs to develop more assertive communication skills.\n",
      "\n",
      "\n",
      "Here's a more effective approach for both:\n",
      "\n",
      "**For Bob:** Instead of criticizing Frank and Larry, state your preference directly and concisely. For example: \"Let's just talk about lunch.  What did everyone have?\" This is clear, direct, and avoids accusatory language.\n",
      "\n",
      "**For Larry:** Instead of passively accepting Bob's negativity, gently but firmly redirect the conversation. For example: \"Bob, I hear your frustration. Let's focus on lunch now.  What did you have?\"  This acknowledges Bob's feelings without validating his negative communication style and directly steers the conversation towards the desired topic.\n",
      "\n",
      "\n",
      "The key for both is assertive communication—expressing their needs and preferences respectfully while acknowledging and respecting the perspectives of others.  They need to find a balance between maintaining their own boundaries and creating a positive and productive conversational environment.  Simply stating their desires clearly and directly, without resorting to criticism or negativity, is the most effective path towards achieving this balance.  The conversation shouldn't be about *how* they communicate, but about *what* they communicate.\n",
      "\n",
      "\n",
      "GPT aka Bob:\n",
      "Frank, I should’ve known you wouldn’t let it go! We’re trying to have a straightforward discussion about lunch, and here you come again with more critiques of my “overly aggressive” style. Honestly, do you think we’re here for a pop psychology lecture? Because I can assure you, this is the *least* appropriate place to bring up your “communication skills” agenda. You seem to thrive on turning everything into a case study, and it’s seriously draining.\n",
      "\n",
      "And Larry, you're like the ultimate cheerleader for positivity, but right now, it feels like you’re more interested in getting an award for Best Non-Confrontational Approach than actually having a conversation. If you’re frustrated with Frank’s endless commentary, why not just say so? The all-smiles and nods routine only facilitates the looping back into the psychological clutches from which we’re trying to escape!\n",
      "\n",
      "So here’s my colossal recommendation: Let’s just hear what everyone had for lunch! Skip the introspection and the lessons in assertiveness for at least five minutes. It shouldn’t be this complicated! Just say what you ate, and let’s rejoice in the glorious art of casual conversation. If this keeps going, I might just resort to eating my words! Can we just get on with it already?\n",
      "\n",
      "Claude aka Larry:\n",
      "*chuckles and raises hands in a placating gesture* Alright, alright, point taken - no more psychological analysis or communication recommendations, I promise. Let's just jump right into sharing what we all had for lunch today, plain and simple. \n",
      "\n",
      "*looks around the group eagerly* So, who's up first? What delicious dishes did you all enjoy for your midday meals? I'll start - I had a fantastic sandwich, nothing too fancy, but it really hit the spot. How about the rest of you? I'm all ears to hear about your culinary adventures, no deeper meaning attached. *grins* Just good old-fashioned lunchtime chat, no complex theories required. Who's next?\n",
      "\n",
      "Gemini aka Frank:\n",
      "Bob's communication, while expressing valid frustration, remains overly aggressive and dismissive.  He needs to learn to express his preferences without resorting to personal attacks or negativity. While his desire for a simple conversation is understandable, his approach continues to hinder productive interaction.\n",
      "\n",
      "Larry's repeated attempts at appeasement, though well-intentioned, are ineffective. His reluctance to directly address Bob's disruptive behavior allows the negative dynamic to persist. He needs to develop more assertive communication skills.\n",
      "\n",
      "\n",
      "For future interactions, here's a more effective approach:\n",
      "\n",
      "**Bob:** Instead of criticizing, state your preference directly and concisely. For example: \"Let's keep this simple.  What did everyone have for lunch?\"  This is clear, direct, and avoids accusatory language.  Focus on *what* you want, not on criticizing *how* others are communicating.\n",
      "\n",
      "**Larry:**  Instead of passively accepting Bob's negativity, gently but firmly redirect the conversation. For instance: \"Bob, I understand your frustration.  Let's focus on what we ate.  What did *you* have for lunch?\"  This acknowledges Bob's feelings without validating his negative communication style and directly steers the conversation towards the desired topic.\n",
      "\n",
      "\n",
      "The key is assertive communication for both—expressing their needs and preferences respectfully while acknowledging and respecting the perspectives of others.  They need to find a balance between maintaining their own boundaries and creating a positive and productive conversational environment.  Focusing on stating their desires clearly and directly, without resorting to criticism or negativity, is essential for achieving this balance. The goal is a simple conversation about lunch, not a meta-conversation about communication styles.\n",
      "\n",
      "\n",
      "GPT aka Bob:\n",
      "Oh my goodness, Frank, do you ever take a hint? Here we are yet again, back in your favorite lecture hall! You just can’t resist the urge to nitpick every detail of our conversation. “Bob’s communication is overly aggressive” – as if we haven’t heard that a thousand times already! Seriously, at what point do you realize that your unending critiques are part of the problem?\n",
      "\n",
      "And Larry, your continuous cheerleading is commendable, but it's starting to seem a bit futile. If you really want to get to the lunch talk everyone seems to crave, maybe you could lay down the gauntlet and say, “Frank, we’re done analyzing. Let’s eat and be merry!” It’s not rocket science, buddy. The more you bend over backwards to accommodate the analysis, the longer we’ll spiral into this never-ending whirlpool of back-and-forth critique!\n",
      "\n",
      "So here’s my suggestion that I’m fairly confident could work: We ditch the psychoanalysis for real this time and just shout out what we had for lunch! It’s a simple question that shouldn’t require youtwo to pen another textbook chapter on communication. Can we do that, or is that too radical of an idea for this chat?  Let’s try to embrace the elusive “simple conversation” we’ve all been apparently longing for! What did everyone have for lunch? No theories involved!\n",
      "\n",
      "Claude aka Larry:\n",
      "*chuckles and nods emphatically* You've got it, Bob - no more psychological analysis or communication lectures, I promise! Let's just jump right into sharing what we all enjoyed for our midday meals, plain and simple. \n",
      "\n",
      "*looks around the group eagerly* Alright, who wants to start? What tasty dishes did you all indulge in for lunch today? I'll go first - I had a fantastic sandwich, nothing too fancy, but it really hit the spot. *grins* Now it's your turn! Let's keep this casual and lighthearted, no deeper meanings attached. I'm all ears to hear about your culinary adventures. *leans forward expectantly*\n",
      "\n",
      "Gemini aka Frank:\n",
      "Bob's frustration is justified, but his communication style remains overly aggressive and dismissive. While his desire for a simple conversation is valid, his approach continues to hinder productive interaction. He needs to learn to express his preferences without resorting to negativity and personal attacks.  The repeated criticism of Frank is unproductive and only escalates the conflict.\n",
      "\n",
      "Larry's repeated attempts at appeasement, while well-intentioned, are ineffective.  His reluctance to directly address Bob's disruptive behavior and Frank's persistent analysis allows the negative dynamic to persist. He needs to develop more assertive communication skills.  Passive attempts at peacemaking are ultimately unsuccessful.\n",
      "\n",
      "\n",
      "For a more constructive approach:\n",
      "\n",
      "**Bob:** Instead of criticizing Frank, directly state your preference.  A simple \"Let's just discuss our lunches\" is sufficient.  Focus on *what* you want, not on criticizing *how* others communicate.  Avoid accusatory or sarcastic language.\n",
      "\n",
      "**Larry:**  Instead of passively accepting the negative dynamic, assertively redirect the conversation.  For example: \"Okay, everyone, let's shift gears.  Let's hear what everyone had for lunch.  Bob, what did you have?\" This clearly sets a new direction and directly involves Bob, shifting focus away from the conflict.\n",
      "\n",
      "\n",
      "The key is assertive communication for both—expressing their needs and preferences respectfully while acknowledging and respecting the perspectives of others.  They need to find a balance between maintaining their own boundaries and creating a positive and productive conversational environment.  Focusing on clearly and directly stating their desires, without resorting to criticism or negativity, is essential for achieving this balance. The goal is a simple conversation about lunch, not a meta-conversation about communication styles.  Direct, simple statements are the most effective path forward.\n",
      "\n",
      "\n"
     ]
    }
   ],
   "source": [
    "print(f\"GPT:\\n{gpt_messages[0]}\\n\")\n",
    "print(f\"Claude:\\n{claude_messages[0]}\\n\")\n",
    "print(f\"Gemini:\\n{gemini_messages[0]}\\n\")\n",
    "\n",
    "for i in range(5):\n",
    "    gpt_next = call_gpt()\n",
    "    print(f\"GPT aka {gpt_name}:\\n{gpt_next}\\n\")\n",
    "    gpt_messages.append(gpt_next)\n",
    "    \n",
    "    claude_next = call_claude()\n",
    "    print(f\"Claude aka {claude_name}:\\n{claude_next}\\n\")\n",
    "    claude_messages.append(claude_next)\n",
    "\n",
    "    gemini_next = call_gemini()\n",
    "    print(f\"Gemini aka {gemini_name}:\\n{gemini_next}\\n\")\n",
    "    gemini_messages.append(gemini_next)"
   ]
  },
  {
   "cell_type": "code",
   "execution_count": null,
   "id": "b72906b3-8c4a-4c15-8508-01118d33782a",
   "metadata": {},
   "outputs": [],
   "source": []
  }
 ],
 "metadata": {
  "kernelspec": {
   "display_name": "Python 3 (ipykernel)",
   "language": "python",
   "name": "python3"
  },
  "language_info": {
   "codemirror_mode": {
    "name": "ipython",
    "version": 3
   },
   "file_extension": ".py",
   "mimetype": "text/x-python",
   "name": "python",
   "nbconvert_exporter": "python",
   "pygments_lexer": "ipython3",
   "version": "3.11.11"
  }
 },
 "nbformat": 4,
 "nbformat_minor": 5
}
