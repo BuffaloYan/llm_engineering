{
 "cells": [
  {
   "cell_type": "markdown",
   "id": "fe12c203-e6a6-452c-a655-afb8a03a4ff5",
   "metadata": {},
   "source": [
    "# End of week 1 exercise\n",
    "\n",
    "To demonstrate your familiarity with OpenAI API, and also Ollama, build a tool that takes a technical question,  \n",
    "and responds with an explanation. This is a tool that you will be able to use yourself during the course!"
   ]
  },
  {
   "cell_type": "code",
   "execution_count": 23,
   "id": "c1070317-3ed9-4659-abe3-828943230e03",
   "metadata": {},
   "outputs": [],
   "source": [
    "# imports\n",
    "import os\n",
    "from dotenv import load_dotenv\n",
    "from IPython.display import Markdown, display, update_display\n",
    "from openai import OpenAI"
   ]
  },
  {
   "cell_type": "code",
   "execution_count": 24,
   "id": "4a456906-915a-4bfd-bb9d-57e505c5093f",
   "metadata": {},
   "outputs": [],
   "source": [
    "# constants\n",
    "\n",
    "MODEL_GPT = 'gpt-4o-mini'\n",
    "MODEL_LLAMA = 'llama3.2'"
   ]
  },
  {
   "cell_type": "code",
   "execution_count": 25,
   "id": "a8d7923c-5f28-4c30-8556-342d7c8497c1",
   "metadata": {},
   "outputs": [],
   "source": [
    "# set up environment\n",
    "load_dotenv()\n",
    "# api_key = os.getenv('OPENAI_API_KEY')\n",
    "openai = OpenAI()"
   ]
  },
  {
   "cell_type": "code",
   "execution_count": 26,
   "id": "3f0d0137-52b0-47a8-81a8-11a90a010798",
   "metadata": {},
   "outputs": [],
   "source": [
    "# here is the question; type over this to ask something new\n",
    "\n",
    "question = \"\"\"\n",
    "Please explain what this code does and why:\n",
    "yield from {book.get(\"author\") for book in books if book.get(\"author\")}\n",
    "\"\"\""
   ]
  },
  {
   "cell_type": "code",
   "execution_count": 27,
   "id": "5c044d07-02d2-47cf-87b6-65ce3a3985e5",
   "metadata": {},
   "outputs": [],
   "source": [
    "def display_markdown(content):\n",
    "    display(Markdown(content))"
   ]
  },
  {
   "cell_type": "code",
   "execution_count": 28,
   "id": "60ce7000-a4a5-4cce-a261-e75ef45063b4",
   "metadata": {},
   "outputs": [
    {
     "data": {
      "text/markdown": [
       "The provided code snippet utilizes a Python generator expression with the `yield from` statement. Let’s break it down step-by-step to understand its functionality:\n",
       "\n",
       "1. **Set Comprehension**: \n",
       "   python\n",
       "   {book.get(\"author\") for book in books if book.get(\"author\")}\n",
       "   \n",
       "   - This part creates a set from the `books` collection, which is assumed to be an iterable (like a list of dictionaries).\n",
       "   - For each `book` in `books`, `book.get(\"author\")` fetches the value associated with the key `\"author\"` in the `book` dictionary.\n",
       "   - The `if book.get(\"author\")` condition filters out any books that do not have an `\"author\"` key or those where the value is `None`, effectively ensuring that only valid author names are included in the resulting set.\n",
       "   - Using a set comprehension ensures that each author name will be unique in the output, even if multiple books have the same author.\n",
       "\n",
       "2. **`yield from`**: \n",
       "   python\n",
       "   yield from ...\n",
       "   \n",
       "   - The `yield from` expression is used in a generator function. It allows the generator to yield all values from the iterable that follows it.\n",
       "   - In this case, it will yield each unique author name obtained from the set comprehension one at a time.\n",
       "\n",
       "### Purpose of the Code:\n",
       "- The overall purpose of this code is to produce a generator that yields unique author names from a list of `books`. It processes the list of dictionaries, extracts the author names, filters out any that are `None` or missing, and then yields each unique author name when called.\n",
       "\n",
       "### Example:\n",
       "If `books` is defined as:\n",
       "python\n",
       "books = [\n",
       "    {\"title\": \"Book 1\", \"author\": \"Author A\"},\n",
       "    {\"title\": \"Book 2\", \"author\": \"Author B\"},\n",
       "    {\"title\": \"Book 3\", \"author\": None},\n",
       "    {\"title\": \"Book 4\", \"author\": \"Author A\"},\n",
       "    {\"title\": \"Book 5\"}  # No author key\n",
       "]\n",
       "\n",
       "The code will yield:\n",
       "- \"Author A\" \n",
       "- \"Author B\"\n",
       "\n",
       "It will not yield anything for the book without an author or the book with `None` as an author.\n",
       "\n",
       "### Conclusion:\n",
       "This code snippet enables efficient extraction of unique authors from a list of books, ensuring that the resulting iterable only contains valid author names without duplicates."
      ],
      "text/plain": [
       "<IPython.core.display.Markdown object>"
      ]
     },
     "metadata": {},
     "output_type": "display_data"
    }
   ],
   "source": [
    "# Get gpt-4o-mini to answer, with streaming\n",
    "\n",
    "stream = openai.chat.completions.create(model=MODEL_GPT, messages=[{\"role\":\"user\", \"content\":question}], stream=True)\n",
    "response = \"\"\n",
    "display_handle = display(Markdown(\"\"), display_id=True)\n",
    "for chunk in stream:\n",
    "    response += chunk.choices[0].delta.content or ''\n",
    "    response = response.replace(\"```\",\"\").replace(\"markdown\", \"\")\n",
    "    update_display(Markdown(response), display_id=display_handle.display_id)\n"
   ]
  },
  {
   "cell_type": "code",
   "execution_count": 15,
   "id": "8f7c8ea8-4082-4ad0-8751-3301adcf6538",
   "metadata": {},
   "outputs": [
    {
     "data": {
      "text/markdown": [
       "**Deeper Dive into the `yield from` Syntax**\n",
       "\n",
       "This line of code is part of a larger generator function, but let's break it down into its individual components.\n",
       "\n",
       "```python\n",
       "yield from {book.get(\"author\") for book in books if book.get(\"author\")}\n",
       "```\n",
       "\n",
       "Here's what happens in this code:\n",
       "\n",
       "1. `{book.get(\"author\") for book in books if book.get(\"author\")}` is a dictionary comprehension.\n",
       "   - `for` iterates over the items in the `books` list.\n",
       "   - `if book.get(\"author\")` filters out books that don't have an \"author\" key.\n",
       "\n",
       "2. The resulting dictionary is then passed to `yield from`.\n",
       "\n",
       "The syntax at this site is called `yield from`. It allows us to delegate iteration over a subiterator object, in effect making it look like we're iterating one by two for each value returned by the function.\n",
       "\n",
       "When used inside another generator or coroutine using the yield* keyword (`yield *(expression)`) it makes our code more readable, especially when working with nested generators. When used as `yield from` in any other context (as shown above), it can help flatten an object's items, typically a result of dictionary unpacking.\n",
       "\n",
       "In general, `yield from` can be seen as a \"flatten\" function which turns complex iterables into simple ones making the code to work with them easier.\n",
       "\n",
       "\n",
       "The use case here is likely when filtering dictionaries for their author data and creating a generator that yields all these authors. In each dictionary you're checking if there's an 'author' key before yielding it, hence avoiding an AttributeError.\n",
       "\n",
       "A potential example of how this function might be used (in addition to its original context), would be as the caller of the `yield from` expression:\n",
       "\n",
       "```python\n",
       "def flatten_dict(data):\n",
       "    for key in data:\n",
       "        yield from flatten_dict(data[key])\n",
       "\n",
       "for author in flatten_dict({book: {\"author\": \"John\", \"pages\": 200} for book in books if book.get(\"author\")]):\n",
       "     print(author)\n",
       "\n",
       "```\n",
       "\n",
       "I hope this explains the purpose of the expression and how its use case can be beneficial."
      ],
      "text/plain": [
       "<IPython.core.display.Markdown object>"
      ]
     },
     "metadata": {},
     "output_type": "display_data"
    }
   ],
   "source": [
    "# Get Llama 3.2 to answer\n",
    "openai = OpenAI(base_url='http://localhost:11434/v1', api_key=\"ollama\")\n",
    "response = openai.chat.completions.create(model=MODEL_LLAMA, messages=[{\"role\":\"user\", \"content\":question}])\n",
    "display_markdown(response.choices[0].message.content)"
   ]
  },
  {
   "cell_type": "code",
   "execution_count": null,
   "id": "bdf68406-cbb8-4327-ae05-77bb149d9b84",
   "metadata": {},
   "outputs": [],
   "source": []
  }
 ],
 "metadata": {
  "kernelspec": {
   "display_name": "Python 3 (ipykernel)",
   "language": "python",
   "name": "python3"
  },
  "language_info": {
   "codemirror_mode": {
    "name": "ipython",
    "version": 3
   },
   "file_extension": ".py",
   "mimetype": "text/x-python",
   "name": "python",
   "nbconvert_exporter": "python",
   "pygments_lexer": "ipython3",
   "version": "3.11.11"
  }
 },
 "nbformat": 4,
 "nbformat_minor": 5
}
