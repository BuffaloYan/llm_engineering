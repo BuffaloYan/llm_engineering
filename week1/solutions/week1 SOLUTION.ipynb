{
 "cells": [
  {
   "cell_type": "markdown",
   "id": "fe12c203-e6a6-452c-a655-afb8a03a4ff5",
   "metadata": {},
   "source": [
    "# End of week 1 solution\n",
    "\n",
    "To demonstrate your familiarity with OpenAI API, and also Ollama, build a tool that takes a technical question,  \n",
    "and responds with an explanation. This is a tool that you will be able to use yourself during the course!\n",
    "\n",
    "After week 2 you'll be able to add a User Interface to this tool, giving you a valuable application."
   ]
  },
  {
   "cell_type": "code",
   "execution_count": 1,
   "id": "c1070317-3ed9-4659-abe3-828943230e03",
   "metadata": {},
   "outputs": [],
   "source": [
    "# imports\n",
    "\n",
    "from dotenv import load_dotenv\n",
    "from IPython.display import Markdown, display, update_display\n",
    "from openai import OpenAI\n",
    "import ollama"
   ]
  },
  {
   "cell_type": "code",
   "execution_count": 2,
   "id": "4a456906-915a-4bfd-bb9d-57e505c5093f",
   "metadata": {},
   "outputs": [],
   "source": [
    "# constants\n",
    "\n",
    "MODEL_GPT = 'gpt-4o-mini'\n",
    "MODEL_LLAMA = 'llama3.2'"
   ]
  },
  {
   "cell_type": "code",
   "execution_count": 3,
   "id": "a8d7923c-5f28-4c30-8556-342d7c8497c1",
   "metadata": {},
   "outputs": [],
   "source": [
    "# set up environment\n",
    "\n",
    "load_dotenv()\n",
    "openai = OpenAI()\n"
   ]
  },
  {
   "cell_type": "code",
   "execution_count": 4,
   "id": "3f0d0137-52b0-47a8-81a8-11a90a010798",
   "metadata": {},
   "outputs": [],
   "source": [
    "# here is the question; type over this to ask something new\n",
    "\n",
    "question = \"\"\"\n",
    "Please explain what this code does and why:\n",
    "yield from {book.get(\"author\") for book in books if book.get(\"author\")}\n",
    "\"\"\""
   ]
  },
  {
   "cell_type": "code",
   "execution_count": 5,
   "id": "8595807b-8ae2-4e1b-95d9-e8532142e8bb",
   "metadata": {},
   "outputs": [],
   "source": [
    "# prompts\n",
    "\n",
    "system_prompt = \"You are a helpful technical tutor who answers questions about python code, software engineering, data science and LLMs\"\n",
    "user_prompt = \"Please give a detailed explanation to the following question: \" + question"
   ]
  },
  {
   "cell_type": "code",
   "execution_count": 6,
   "id": "9605cbb6-3d3f-4969-b420-7f4cae0b9328",
   "metadata": {},
   "outputs": [],
   "source": [
    "# messages\n",
    "\n",
    "messages = [\n",
    "    {\"role\": \"system\", \"content\": system_prompt},\n",
    "    {\"role\": \"user\", \"content\": user_prompt}\n",
    "]"
   ]
  },
  {
   "cell_type": "code",
   "execution_count": 7,
   "id": "60ce7000-a4a5-4cce-a261-e75ef45063b4",
   "metadata": {},
   "outputs": [
    {
     "data": {
      "text/markdown": [
       "The provided code snippet utilizes a Python feature known as *generator expressions*, along with the `yield from` statement. It processes a collection called `books`, which is expected to be a list (or another iterable) of dictionaries. Each dictionary represents a book and may contain various keys, one of which is likely `\"author\"`. Let’s break down the code step by step:\n",
       "\n",
       "### Breakdown of the Code\n",
       "\n",
       "1. **Set Comprehension:**\n",
       "   python\n",
       "   {book.get(\"author\") for book in books if book.get(\"author\")}\n",
       "   \n",
       "   - This part creates a **set**. The curly braces `{}` indicate that this is a set comprehension.\n",
       "   - The expression `book.get(\"author\")` retrieves the value associated with the `\"author\"` key from each `book` dictionary in the `books` iterable.\n",
       "   - The `for book in books` iterates over each book in the `books` iterable.\n",
       "   - The `if book.get(\"author\")` clause ensures that only books which have a non-`None` value for `\"author\"` are included in the set.\n",
       "     - If a book does not have an `\"author\"` key or if the value is `None`, it will be filtered out.\n",
       "   - The result is a set of unique authors from the `books` collection since sets in Python automatically handle duplicates.\n",
       "\n",
       "2. **Yield from:**\n",
       "   python\n",
       "   yield from ...\n",
       "   \n",
       "   - The `yield from` statement is used in generator functions. It allows a generator to delegate part of its operations to another generator or iterable.\n",
       "   - In this case, `yield from` is delegating iteration to the set created in the previous step.\n",
       "   - When this statement executes, it yields each value from the set one at a time.\n",
       "\n",
       "### Overall Functionality\n",
       "Putting it all together, this line of code effectively:\n",
       "- Collects all unique authors from a list of book dictionaries.\n",
       "- Yields each unique author one at a time when called in the context of a generator function.\n",
       "\n",
       "### Example Context\n",
       "Here is a simple example to illustrate how this code snippet might be used within a generator function:\n",
       "\n",
       "python\n",
       "def get_unique_authors(books):\n",
       "    yield from {book.get(\"author\") for book in books if book.get(\"author\")}\n",
       "\n",
       "books = [\n",
       "    {\"title\": \"Book A\", \"author\": \"Author 1\"},\n",
       "    {\"title\": \"Book B\", \"author\": \"Author 2\"},\n",
       "    {\"title\": \"Book C\"},  # No author\n",
       "    {\"title\": \"Book D\", \"author\": \"Author 1\"},  # Duplicate author\n",
       "]\n",
       "\n",
       "for author in get_unique_authors(books):\n",
       "    print(author)\n",
       "\n",
       "\n",
       "### Explanation of the Example\n",
       "- In this example, the `get_unique_authors` function takes a list of books and uses the provided line of code to yield unique authors.\n",
       "- When the generator is iterated over, it will print:\n",
       "  \n",
       "  Author 1\n",
       "  Author 2\n",
       "  \n",
       "- The author \"Author 1\" appears only once, due to the nature of sets.\n",
       "\n",
       "### Conclusion\n",
       "In summary, the code is efficient for extracting unique authors from a list of book dictionaries, handling any missing or null values gracefully while providing a generator interface for sequential access to the results. This approach is particularly useful in scenarios where handling large data sets or streaming results is needed."
      ],
      "text/plain": [
       "<IPython.core.display.Markdown object>"
      ]
     },
     "metadata": {},
     "output_type": "display_data"
    }
   ],
   "source": [
    "# Get gpt-4o-mini to answer, with streaming\n",
    "\n",
    "stream = openai.chat.completions.create(model=MODEL_GPT, messages=messages,stream=True)\n",
    "    \n",
    "response = \"\"\n",
    "display_handle = display(Markdown(\"\"), display_id=True)\n",
    "for chunk in stream:\n",
    "    response += chunk.choices[0].delta.content or ''\n",
    "    response = response.replace(\"```\",\"\").replace(\"markdown\", \"\")\n",
    "    update_display(Markdown(response), display_id=display_handle.display_id)"
   ]
  },
  {
   "cell_type": "code",
   "execution_count": null,
   "id": "8f7c8ea8-4082-4ad0-8751-3301adcf6538",
   "metadata": {},
   "outputs": [],
   "source": [
    "# Get Llama 3.2 to answer\n",
    "\n",
    "response = ollama.chat(model=MODEL_LLAMA, messages=messages)\n",
    "reply = response['message']['content']\n",
    "display(Markdown(reply))"
   ]
  },
  {
   "cell_type": "markdown",
   "id": "7e14bcdb-b928-4b14-961e-9f7d8c7335bf",
   "metadata": {},
   "source": [
    "# Congratulations!\n",
    "\n",
    "You could make it better by taking in the question using  \n",
    "`my_question = input(\"Please enter your question:\")`\n",
    "\n",
    "And then creating the prompts and making the calls interactively."
   ]
  },
  {
   "cell_type": "code",
   "execution_count": null,
   "id": "da663d73-dd2a-4fff-84df-2209cf2b330b",
   "metadata": {},
   "outputs": [],
   "source": []
  }
 ],
 "metadata": {
  "kernelspec": {
   "display_name": "Python 3 (ipykernel)",
   "language": "python",
   "name": "python3"
  },
  "language_info": {
   "codemirror_mode": {
    "name": "ipython",
    "version": 3
   },
   "file_extension": ".py",
   "mimetype": "text/x-python",
   "name": "python",
   "nbconvert_exporter": "python",
   "pygments_lexer": "ipython3",
   "version": "3.11.11"
  }
 },
 "nbformat": 4,
 "nbformat_minor": 5
}
