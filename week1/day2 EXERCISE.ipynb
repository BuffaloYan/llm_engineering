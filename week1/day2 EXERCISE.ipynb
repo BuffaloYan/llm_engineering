{
 "cells": [
  {
   "cell_type": "markdown",
   "id": "d15d8294-3328-4e07-ad16-8a03e9bbfdb9",
   "metadata": {},
   "source": [
    "# Welcome to your first assignment!\n",
    "\n",
    "Instructions are below. Please give this a try, and look in the solutions folder if you get stuck (or feel free to ask me!)"
   ]
  },
  {
   "cell_type": "markdown",
   "id": "ada885d9-4d42-4d9b-97f0-74fbbbfe93a9",
   "metadata": {},
   "source": [
    "<table style=\"margin: 0; text-align: left;\">\n",
    "    <tr>\n",
    "        <td style=\"width: 150px; height: 150px; vertical-align: middle;\">\n",
    "            <img src=\"../resources.jpg\" width=\"150\" height=\"150\" style=\"display: block;\" />\n",
    "        </td>\n",
    "        <td>\n",
    "            <h2 style=\"color:#f71;\">Just before we get to the assignment --</h2>\n",
    "            <span style=\"color:#f71;\">I thought I'd take a second to point you at this page of useful resources for the course. This includes links to all the slides.<br/>\n",
    "            <a href=\"https://edwarddonner.com/2024/11/13/llm-engineering-resources/\">https://edwarddonner.com/2024/11/13/llm-engineering-resources/</a><br/>\n",
    "            Please keep this bookmarked, and I'll continue to add more useful links there over time.\n",
    "            </span>\n",
    "        </td>\n",
    "    </tr>\n",
    "</table>"
   ]
  },
  {
   "cell_type": "markdown",
   "id": "6e9fa1fc-eac5-4d1d-9be4-541b3f2b3458",
   "metadata": {},
   "source": [
    "# HOMEWORK EXERCISE ASSIGNMENT\n",
    "\n",
    "Upgrade the day 1 project to summarize a webpage to use an Open Source model running locally via Ollama rather than OpenAI\n",
    "\n",
    "You'll be able to use this technique for all subsequent projects if you'd prefer not to use paid APIs.\n",
    "\n",
    "**Benefits:**\n",
    "1. No API charges - open-source\n",
    "2. Data doesn't leave your box\n",
    "\n",
    "**Disadvantages:**\n",
    "1. Significantly less power than Frontier Model\n",
    "\n",
    "## Recap on installation of Ollama\n",
    "\n",
    "Simply visit [ollama.com](https://ollama.com) and install!\n",
    "\n",
    "Once complete, the ollama server should already be running locally.  \n",
    "If you visit:  \n",
    "[http://localhost:11434/](http://localhost:11434/)\n",
    "\n",
    "You should see the message `Ollama is running`.  \n",
    "\n",
    "If not, bring up a new Terminal (Mac) or Powershell (Windows) and enter `ollama serve`  \n",
    "And in another Terminal (Mac) or Powershell (Windows), enter `ollama pull llama3.2`  \n",
    "Then try [http://localhost:11434/](http://localhost:11434/) again.\n",
    "\n",
    "If Ollama is slow on your machine, try using `llama3.2:1b` as an alternative. Run `ollama pull llama3.2:1b` from a Terminal or Powershell, and change the code below from `MODEL = \"llama3.2\"` to `MODEL = \"llama3.2:1b\"`"
   ]
  },
  {
   "cell_type": "code",
   "execution_count": 1,
   "id": "4e2a9393-7767-488e-a8bf-27c12dca35bd",
   "metadata": {},
   "outputs": [],
   "source": [
    "# imports\n",
    "\n",
    "import requests\n",
    "from bs4 import BeautifulSoup\n",
    "from IPython.display import Markdown, display"
   ]
  },
  {
   "cell_type": "code",
   "execution_count": 2,
   "id": "29ddd15d-a3c5-4f4e-a678-873f56162724",
   "metadata": {},
   "outputs": [],
   "source": [
    "# Constants\n",
    "\n",
    "OLLAMA_API = \"http://localhost:11434/api/chat\"\n",
    "HEADERS = {\"Content-Type\": \"application/json\"}\n",
    "MODEL = \"llama3.2\""
   ]
  },
  {
   "cell_type": "code",
   "execution_count": 3,
   "id": "dac0a679-599c-441f-9bf2-ddc73d35b940",
   "metadata": {},
   "outputs": [],
   "source": [
    "# Create a messages list using the same format that we used for OpenAI\n",
    "\n",
    "messages = [\n",
    "    {\"role\": \"user\", \"content\": \"Describe some of the business applications of Generative AI\"}\n",
    "]"
   ]
  },
  {
   "cell_type": "code",
   "execution_count": 4,
   "id": "7bb9c624-14f0-4945-a719-8ddb64f66f47",
   "metadata": {},
   "outputs": [],
   "source": [
    "payload = {\n",
    "        \"model\": MODEL,\n",
    "        \"messages\": messages,\n",
    "        \"stream\": False\n",
    "    }"
   ]
  },
  {
   "cell_type": "code",
   "execution_count": 5,
   "id": "42b9f644-522d-4e05-a691-56e7658c0ea9",
   "metadata": {},
   "outputs": [
    {
     "name": "stdout",
     "output_type": "stream",
     "text": [
      "Generative AI has numerous business applications across various industries, including:\n",
      "\n",
      "1. **Content Creation**: Generative AI can be used to generate high-quality content such as articles, social media posts, product descriptions, and more. This can help reduce content creation costs and improve consistency.\n",
      "2. **Marketing Automation**: Generative AI can be used to personalize marketing campaigns, generating tailored messages and offers for individual customers based on their behavior and preferences.\n",
      "3. **Product Design and Development**: Generative AI can be used to design new products, such as furniture, clothing, or electronics, by generating 2D and 3D designs based on user input and preferences.\n",
      "4. **Customer Service**: Generative AI-powered chatbots can be used to provide 24/7 customer support, answering common questions and helping customers with basic inquiries.\n",
      "5. **Risk Management**: Generative AI can be used to analyze large datasets and identify potential risks and patterns that may not be apparent through human analysis alone.\n",
      "6. **Predictive Maintenance**: Generative AI can be used to predict equipment failures and maintenance needs, reducing downtime and improving overall efficiency.\n",
      "7. **Data Analysis**: Generative AI can be used to uncover hidden insights and patterns in large datasets, helping businesses make data-driven decisions.\n",
      "8. **Financial Modeling**: Generative AI can be used to build financial models, forecast revenue and expenses, and identify potential investment opportunities.\n",
      "9. **Virtual Assistants**: Generative AI-powered virtual assistants can be used to manage daily tasks, schedule appointments, and provide personalized recommendations.\n",
      "10. **Supply Chain Optimization**: Generative AI can be used to optimize supply chain operations, predicting demand fluctuations and identifying opportunities for cost savings.\n",
      "\n",
      "Industry-specific applications:\n",
      "\n",
      "1. **Healthcare**: Generative AI can be used to analyze medical images, generate personalized treatment plans, and predict patient outcomes.\n",
      "2. **Finance**: Generative AI can be used to detect financial fraud, generate investment portfolios, and optimize portfolio performance.\n",
      "3. **Retail**: Generative AI can be used to generate personalized product recommendations, optimize inventory management, and improve supply chain operations.\n",
      "4. **Education**: Generative AI can be used to create personalized learning plans, grade assignments, and provide feedback to students.\n",
      "\n",
      "These are just a few examples of the many business applications of Generative AI. As the technology continues to evolve, we can expect to see even more innovative uses across various industries.\n"
     ]
    }
   ],
   "source": [
    "response = requests.post(OLLAMA_API, json=payload, headers=HEADERS)\n",
    "print(response.json()['message']['content'])"
   ]
  },
  {
   "cell_type": "markdown",
   "id": "6a021f13-d6a1-4b96-8e18-4eae49d876fe",
   "metadata": {},
   "source": [
    "# Introducing the ollama package\n",
    "\n",
    "And now we'll do the same thing, but using the elegant ollama python package instead of a direct HTTP call.\n",
    "\n",
    "Under the hood, it's making the same call as above to the ollama server running at localhost:11434"
   ]
  },
  {
   "cell_type": "code",
   "execution_count": 6,
   "id": "7745b9c4-57dc-4867-9180-61fa5db55eb8",
   "metadata": {},
   "outputs": [
    {
     "name": "stdout",
     "output_type": "stream",
     "text": [
      "Generative AI has numerous business applications across various industries, including:\n",
      "\n",
      "1. **Content Generation**: AI can generate high-quality content such as articles, social media posts, product descriptions, and more. This reduces the need for human writers and allows businesses to produce a large volume of content quickly.\n",
      "2. **Product Design**: Generative AI can create 3D models, prototypes, and designs for products, reducing the time and cost associated with traditional design methods.\n",
      "3. **Image and Video Generation**: AI can generate images, videos, and graphics that are indistinguishable from those created by humans. This is used in various applications such as advertising, entertainment, and social media.\n",
      "4. **Chatbots and Virtual Assistants**: Generative AI enables the creation of conversational AI systems that can understand natural language and respond accordingly, improving customer service and support.\n",
      "5. **Marketing Automation**: AI can generate personalized marketing materials, such as emails, ads, and social media posts, based on customer data and behavior.\n",
      "6. **Predictive Analytics**: Generative AI models can analyze large datasets to identify patterns and make predictions about future trends, helping businesses make informed decisions.\n",
      "7. **Automated Customer Service**: AI-powered chatbots and virtual assistants can handle customer inquiries, resolving issues quickly and efficiently.\n",
      "8. **Music and Audio Generation**: AI can generate music, sound effects, and other audio content for various applications such as film, gaming, and advertising.\n",
      "9. **Text Summarization**: Generative AI can summarize long documents into concise summaries, saving time and improving comprehension.\n",
      "10. **Data Augmentation**: AI can augment existing data by generating new, high-quality data points, which is essential for training machine learning models.\n",
      "\n",
      "Some specific business applications of generative AI include:\n",
      "\n",
      "* **Virtual product design**: Companies like IKEA and Tesla are using generative AI to design and prototype products more efficiently.\n",
      "* **Automated content creation**: Brands like Coca-Cola and McDonald's are leveraging generative AI to generate engaging content, such as social media posts and product descriptions.\n",
      "* **Personalized marketing**: Retailers like Sephora and Target are using generative AI to create personalized product recommendations based on customer data and behavior.\n",
      "\n",
      "These applications demonstrate the vast potential of generative AI in transforming various business processes and improving operational efficiency.\n"
     ]
    }
   ],
   "source": [
    "import ollama\n",
    "\n",
    "response = ollama.chat(model=MODEL, messages=messages)\n",
    "print(response['message']['content'])"
   ]
  },
  {
   "cell_type": "markdown",
   "id": "a4704e10-f5fb-4c15-a935-f046c06fb13d",
   "metadata": {},
   "source": [
    "## Alternative approach - using OpenAI python library to connect to Ollama"
   ]
  },
  {
   "cell_type": "code",
   "execution_count": 7,
   "id": "23057e00-b6fc-4678-93a9-6b31cb704bff",
   "metadata": {},
   "outputs": [
    {
     "name": "stdout",
     "output_type": "stream",
     "text": [
      "Generative AI has numerous business applications across various industries, including:\n",
      "\n",
      "1. **Content Creation**: Generative AI can generate high-quality content such as text, images, and videos that mimic human creativity. This can be used for:\n",
      "\t* Blog posts and articles\n",
      "\t* Social media content\n",
      "\t* Product descriptions and marketing materials\n",
      "\t* even entire websites or e-commerce platforms\n",
      "2. **Marketing and Advertising**: Gen AI can help create personalized ad campaigns, product recommendations, and social media ads that are tailored to individual customers' interests.\n",
      "3. **Product Design and Development**: Generative AI can aid in designing new products, packaging, and user interfaces by generating 3D models, prototypes, and mockups quickly and efficiently.\n",
      "4. **Customer Service and Support**: Gen AI-powered chatbots can provide multilingual support, answering common customer queries, and helping with simple troubleshooting issues.\n",
      "5. **Data Analysis and Visualization**: Generative AI can help analyze large datasets, identify patterns, and visualize complex data into easy-to-understand charts, graphs, and maps.\n",
      "6. **Predictive Maintenance and Quality Control**: By analyzing sensor data from machines and equipment, Gen AI can predict potential failures and detect quality defects early on, reducing downtime and increasing overall efficiency.\n",
      "7. **Human Resources and Recruitment**: Generative AI-powered tools can help with tasks such as:\n",
      "\t* Resume screening\n",
      "\t* Job profiling and candidate suggestion\n",
      "\t* Interviewing and candidate scoring\n",
      "8. **Financial Modeling and Analysis**: Gen AI can simulate complex financial models, forecasted market trends, and identify potential investment opportunities.\n",
      "9. **Autonomous Systems and Robotics**: Generative AI is being used to develop autonomous systems such as drones, self-driving cars, and robotic arms that require real-time decision-making.\n",
      "10. **Education and Training**: Gen AI can help create personalized learning experiences for students by generating customized content, assessments, and even virtual instructors.\n",
      "\n",
      "Some notable business examples of Generative AI in action include:\n",
      "\n",
      "* The fashion brand, Supreme, using AI to design limited edition clothing and packaging\n",
      "* The automaker, Volkswagen, developing an AI-powered cockpit interface that generates custom settings for each driver\n",
      "* The retail giant, Walmart, utilizing Gen AI for personalized product recommendations and in-store inventory management using computer vision\n",
      "\n",
      "These are just a few examples of how Generative AI is transforming the business landscape.\n"
     ]
    }
   ],
   "source": [
    "# There's actually an alternative approach that some people might prefer\n",
    "# You can use the OpenAI client python library to call Ollama:\n",
    "\n",
    "from openai import OpenAI\n",
    "ollama_via_openai = OpenAI(base_url='http://localhost:11434/v1', api_key='ollama')\n",
    "\n",
    "response = ollama_via_openai.chat.completions.create(\n",
    "    model=MODEL,\n",
    "    messages=messages\n",
    ")\n",
    "\n",
    "print(response.choices[0].message.content)"
   ]
  },
  {
   "cell_type": "markdown",
   "id": "1622d9bb-5c68-4d4e-9ca4-b492c751f898",
   "metadata": {},
   "source": [
    "# NOW the exercise for you\n",
    "\n",
    "Take the code from day1 and incorporate it here, to build a website summarizer that uses Llama 3.2 running locally instead of OpenAI; use either of the above approaches."
   ]
  },
  {
   "cell_type": "code",
   "execution_count": null,
   "id": "402d5686-4e76-4110-b65a-b3906c35c0a4",
   "metadata": {},
   "outputs": [],
   "source": []
  }
 ],
 "metadata": {
  "kernelspec": {
   "display_name": "Python 3 (ipykernel)",
   "language": "python",
   "name": "python3"
  },
  "language_info": {
   "codemirror_mode": {
    "name": "ipython",
    "version": 3
   },
   "file_extension": ".py",
   "mimetype": "text/x-python",
   "name": "python",
   "nbconvert_exporter": "python",
   "pygments_lexer": "ipython3",
   "version": "3.11.11"
  }
 },
 "nbformat": 4,
 "nbformat_minor": 5
}
